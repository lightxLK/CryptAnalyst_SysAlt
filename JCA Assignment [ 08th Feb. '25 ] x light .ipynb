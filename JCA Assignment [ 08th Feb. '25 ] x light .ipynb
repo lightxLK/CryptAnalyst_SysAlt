{
 "cells": [
  {
   "cell_type": "code",
   "execution_count": 1,
   "id": "94a37965-ec1d-4c50-8069-a1e9ac186a74",
   "metadata": {},
   "outputs": [],
   "source": [
    "import json\n",
    "import base64\n",
    "import urllib.parse"
   ]
  },
  {
   "cell_type": "code",
   "execution_count": 2,
   "id": "c4aa839d-216b-41b7-9287-ee6d3d3e1545",
   "metadata": {},
   "outputs": [
    {
     "name": "stdout",
     "output_type": "stream",
     "text": [
      "Unknown: d8ab19d5c7a0f27c10fa57540506ac683bdf3c86c31f402beaf7e441d7eb789364cce03fac2f7ba75b0c4696dc30e8f20bca09ed71c3e5fc70980ac1581c059c9c17cc118f6187c4a20c1f8b0e83b410e3f6fa6d50d48e006be371843453f675e7233888b4150c5f1c26bf049aad1b6c0fa97a225baf1fec3cf31356897ef37be650aacdd25ff78dfc304e73d779768e6b19efe5af9477e074e3de07fcaec66014dea40fe186af33fa519d816ead854c6da927eb7dd8c349d14bbf68f4a97623ed755cfdc3cf09ab925af7f248f7d946a80ef46ae91094bf675dde11e5a8ba75d3cf98a63e9acea0e1dadf78c6e839b0ca4c44bfd13c80155d82d14613c68b9843074f02d74710a485a0ae2914746de6583b9cae685aa66239d3f2cefb657033269d55aa3c4dc6a6c715cc7e4aa5ed6431d486bd6a3b12fe9dcac4635f98232f5c31e16e41daceccb6e584a62b9dee756e29c2adf82def9650fad0b0aaf9bebf278dd97861d278e621043cb4d6858912f2ebb697ead4f9956100a5887f1feb84\n",
      "________________________________________________________________________________________________________________________________________________________\n",
      "Hex: 7b2275726c223a2268747470733a2f2f6173736574732d676c6f62616c2e776562736974652d66696c65732e636f6d2f3633386165633530623961323363656331376238633464312f3633663966613663623962623130333538396630383530615f7a713768337335316a6166636e6c6474646677632e6a7067222c2268617368223a223037373766666637383338313031303038303363336330306665666566306664222c2273656172636848617368223a223234313233306a6871797767736f656534686a67656462306461633038222c226c6566745f657965223a5b3235352c3134325d2c2272696768745f657965223a5b3331372c3134375d2c226e6f7365223a5b3238302c3138325d2c226c6566745f6d6f757468223a5b3234382c3230325d2c2272696768745f6d6f757468223a5b3331392c3230395d2c2265787069726554696d65223a313733353633373234303835312c22616254657374223a6e756c6c2c22706f726e223a66616c73657d\n",
      "________________________________________________________________________________________________________________________________________________________\n",
      "ASCII Text: {'url': 'https://assets-global.website-files.com/638aec50b9a23cec17b8c4d1/63f9fa6cb9bb103589f0850a_zq7h3s51jafcnldtdfwc.jpg', 'hash': '0777fff783810100803c3c00fefef0fd', 'searchHash': '241230jhqywgsoee4hjgedb0dac08', 'left_eye': [255, 142], 'right_eye': [317, 147], 'nose': [280, 182], 'left_mouth': [248, 202], 'right_mouth': [319, 209], 'expireTime': 1735637240851, 'abTest': None, 'porn': False}\n"
     ]
    }
   ],
   "source": [
    "import json\n",
    "\n",
    "def load_json(file_path):\n",
    "    with open(file_path, \"r\") as file:\n",
    "        return json.load(file)\n",
    "\n",
    "def inspect_dataset(data, key):\n",
    "    sample = data[key]\n",
    "    print(f\"Unknown: {sample['unknown']}\")\n",
    "    print('________________________________________________________________________________________________________________________________________________________')\n",
    "    print(f\"Hex: {sample['hex']}\")\n",
    "    print('________________________________________________________________________________________________________________________________________________________')\n",
    "    print(f\"ASCII Text: {sample['ascii_text']}\")\n",
    "    return sample\n",
    "\n",
    "file_path = r\"C:\\Users\\Lokesh Patra\\Documents\\Projects\\Junior Cryptographic Analyst\\assignment cryptography.json\"\n",
    "data = load_json(file_path)\n",
    "\n",
    "# Ensure sample is defined by calling inspect_dataset\n",
    "sample = inspect_dataset(data, \"0\")"
   ]
  },
  {
   "cell_type": "markdown",
   "id": "54d1ada2-41b7-42e7-9106-f13585bdd9d7",
   "metadata": {},
   "source": [
    "### Hex to ASCII Conversion"
   ]
  },
  {
   "cell_type": "code",
   "execution_count": 3,
   "id": "ca17fe67-4972-4f44-99b7-12f7b024e7fc",
   "metadata": {},
   "outputs": [
    {
     "name": "stdout",
     "output_type": "stream",
     "text": [
      "Decoded ASCII: {\"url\":\"https://assets-global.website-files.com/638aec50b9a23cec17b8c4d1/63f9fa6cb9bb103589f0850a_zq7h3s51jafcnldtdfwc.jpg\",\"hash\":\"0777fff783810100803c3c00fefef0fd\",\"searchHash\":\"241230jhqywgsoee4hjgedb0dac08\",\"left_eye\":[255,142],\"right_eye\":[317,147],\"nose\":[280,182],\"left_mouth\":[248,202],\"right_mouth\":[319,209],\"expireTime\":1735637240851,\"abTest\":null,\"porn\":false}\n"
     ]
    }
   ],
   "source": [
    "def hex_to_ascii(hex_str):\n",
    "    try:\n",
    "        ascii_text = bytes.fromhex(hex_str).decode('utf-8')\n",
    "        return ascii_text\n",
    "    except ValueError as e:\n",
    "        print(f\"Error decoding hex: {e}\")\n",
    "        return None\n",
    "\n",
    "# Now we can use sample[\"hex\"] without any issues\n",
    "ascii_result = hex_to_ascii(sample[\"hex\"])\n",
    "\n",
    "if ascii_result:\n",
    "    print(f\"Decoded ASCII: {ascii_result}\")\n",
    "else:\n",
    "    print(\"Failed to decode ASCII.\")"
   ]
  },
  {
   "cell_type": "markdown",
   "id": "eb8c474e-d240-4b05-a7b1-ed5cbd49e149",
   "metadata": {},
   "source": [
    "### ASCII to Hex Conversion"
   ]
  },
  {
   "cell_type": "code",
   "execution_count": 4,
   "id": "03c6bbf7-59a5-45b1-8a3d-6cb7fb60c819",
   "metadata": {},
   "outputs": [
    {
     "name": "stdout",
     "output_type": "stream",
     "text": [
      "Re-encoded Hex: 7b2275726c223a2268747470733a2f2f6173736574732d676c6f62616c2e776562736974652d66696c65732e636f6d2f3633386165633530623961323363656331376238633464312f3633663966613663623962623130333538396630383530615f7a713768337335316a6166636e6c6474646677632e6a7067222c2268617368223a223037373766666637383338313031303038303363336330306665666566306664222c2273656172636848617368223a223234313233306a6871797767736f656534686a67656462306461633038222c226c6566745f657965223a5b3235352c3134325d2c2272696768745f657965223a5b3331372c3134375d2c226e6f7365223a5b3238302c3138325d2c226c6566745f6d6f757468223a5b3234382c3230325d2c2272696768745f6d6f757468223a5b3331392c3230395d2c2265787069726554696d65223a313733353633373234303835312c22616254657374223a6e756c6c2c22706f726e223a66616c73657d\n"
     ]
    }
   ],
   "source": [
    "def ascii_to_hex(ascii_text):\n",
    "    hex_str = ascii_text.encode('utf-8').hex()\n",
    "    return hex_str\n",
    "\n",
    "# Test the conversion\n",
    "if ascii_result:\n",
    "    re_encoded_hex = ascii_to_hex(ascii_result)\n",
    "    print(f\"Re-encoded Hex: {re_encoded_hex}\")\n",
    "else:\n",
    "    print(\"No ASCII text to re-encode.\")"
   ]
  },
  {
   "cell_type": "markdown",
   "id": "55f64b5e-898a-4d40-ba88-6579feb9a9a9",
   "metadata": {},
   "source": [
    "### Base64 Decoding Attempt"
   ]
  },
  {
   "cell_type": "code",
   "execution_count": 5,
   "id": "b64ea6b3-9e94-427a-aa01-257de24e0d86",
   "metadata": {},
   "outputs": [
    {
     "name": "stdout",
     "output_type": "stream",
     "text": [
      "Decoding failed: 'utf-8' codec can't decode byte 0xd7 in position 3: invalid continuation byte\n",
      "Failed to decode Base64.\n"
     ]
    }
   ],
   "source": [
    "def decode_base64(encoded_str):\n",
    "    try:\n",
    "        return base64.b64decode(encoded_str).decode('utf-8')\n",
    "    except Exception as e:\n",
    "        print(f\"Decoding failed: {e}\")\n",
    "        return None\n",
    "\n",
    "# Test Base64 decoding\n",
    "decoded_attempt = decode_base64(sample[\"unknown\"])\n",
    "\n",
    "if decoded_attempt:\n",
    "    print(f\"Base64 Decoding Result: {decoded_attempt}\")\n",
    "else:\n",
    "    print(\"Failed to decode Base64.\")"
   ]
  },
  {
   "cell_type": "markdown",
   "id": "3e54fe23-a7a4-4290-a4e9-2aace4de7e30",
   "metadata": {},
   "source": [
    "##### FAILED"
   ]
  },
  {
   "cell_type": "markdown",
   "id": "1d7dc7e1-1cc7-41b1-a888-576f281f02a3",
   "metadata": {},
   "source": [
    "### XOR Decryption"
   ]
  },
  {
   "cell_type": "code",
   "execution_count": 6,
   "id": "7fa49312-3f49-4a14-8939-b1d9d4e5efb2",
   "metadata": {},
   "outputs": [
    {
     "name": "stdout",
     "output_type": "stream",
     "text": [
      "Possible XOR Key: 24\n",
      "| yz)!|-{/y(~*/{)(~y-/-,(-(.y{. +z|~+{ .{+)~,(*z}y~/},,)|/}z/ !+.,{{}(+~y{*~/zy/-z({,.!.|{+(} ~*(z{y(!}|/){+}-~{/(! (y{)- ){(-!{!{)/{{)) ~.) /{,y*({)~ z(} +z,)(}+~.~y.|-(|, }((.z}+/) ,+,-+~./-}/*++   z,)-({-~){*.z~(,!yy|)z.{(~y!/y**-zy~)~}{+{~+)+-. !/}~+/z}.-(yy{||*-~~/ |~{+(,}/+|//!/. }.z)!}~}-y~!,//}(/,}+|}(/~{y}{..(),|}y,(~}) .y~++~y-)!| ).}y| -,{.|y!*/}z/|| {+,!|),zz~. ~,y!/.*+}|/--{~|{+{~(!yz!*-y~/~*, ~/|!,.y (}~,.y}!)(!,z~./-||}))}-y zy/-|+{~! y.+}!y{}y(})|y|~/ {.} +!z({y,{,,z~|)+{ ()--| *|),.)+{. z! ,+(/,~(*|/,/)(y, -y(y}*!),/,.|}.- +z!{y}. -yy..*+!|+~*{}~z.-/(++*.!|--yy+{,|{.y.{/)-{{/},yy-}|.,+)|, .z|.y+z)*~}!|{y{,.+-~! *+*~-{+)}).},)|y{}{{z.}- ,y.*z!|}}/-.}*!{*y|~ *|}~!.-(~y|(z(yy~!z}z~*/ ||!/ .)|*/ }.*)(,+{z,|. - !)*~*}zz.!/}y|,~!!-.)((y-  /~)~}z ,\n"
     ]
    }
   ],
   "source": [
    "def xor_decrypt(data, key):\n",
    "    return \"\".join(chr(ord(c) ^ key) for c in data)\n",
    "\n",
    "# Testing with a range of possible keys\n",
    "for key in range(256):\n",
    "    decrypted_attempt = xor_decrypt(sample[\"unknown\"], key)\n",
    "\n",
    "    if \"{\" in decrypted_attempt and \"}\" in decrypted_attempt:  # JSON format indicator\n",
    "        print(f\"Possible XOR Key: {key}\")\n",
    "        print(decrypted_attempt)\n",
    "        break"
   ]
  },
  {
   "cell_type": "markdown",
   "id": "c8a98973-b1af-4cdf-a579-8ff496e47ce0",
   "metadata": {},
   "source": [
    "### Encoding Hex to Unknown "
   ]
  },
  {
   "cell_type": "markdown",
   "id": "6412031b-1134-4ef8-9b6f-08a8e789b504",
   "metadata": {},
   "source": [
    "#### Hex to Base64 Encoding []"
   ]
  },
  {
   "cell_type": "code",
   "execution_count": 7,
   "id": "9b012b1d-f421-4def-b877-abeaf8b47cc6",
   "metadata": {},
   "outputs": [
    {
     "name": "stdout",
     "output_type": "stream",
     "text": [
      "Encoded Unknown: eyJ1cmwiOiJodHRwczovL2Fzc2V0cy1nbG9iYWwud2Vic2l0ZS1maWxlcy5jb20vNjM4YWVjNTBiOWEyM2NlYzE3YjhjNGQxLzYzZjlmYTZjYjliYjEwMzU4OWYwODUwYV96cTdoM3M1MWphZmNubGR0ZGZ3Yy5qcGciLCJoYXNoIjoiMDc3N2ZmZjc4MzgxMDEwMDgwM2MzYzAwZmVmZWYwZmQiLCJzZWFyY2hIYXNoIjoiMjQxMjMwamhxeXdnc29lZTRoamdlZGIwZGFjMDgiLCJsZWZ0X2V5ZSI6WzI1NSwxNDJdLCJyaWdodF9leWUiOlszMTcsMTQ3XSwibm9zZSI6WzI4MCwxODJdLCJsZWZ0X21vdXRoIjpbMjQ4LDIwMl0sInJpZ2h0X21vdXRoIjpbMzE5LDIwOV0sImV4cGlyZVRpbWUiOjE3MzU2MzcyNDA4NTEsImFiVGVzdCI6bnVsbCwicG9ybiI6ZmFsc2V9\n"
     ]
    }
   ],
   "source": [
    "def encode_base64(hex_str):\n",
    "    try:\n",
    "        return base64.b64encode(bytes.fromhex(hex_str)).decode('utf-8')\n",
    "    except Exception as e:\n",
    "        print(f\"Encoding failed: {e}\")\n",
    "        return None\n",
    "\n",
    "# Test the encoding\n",
    "encoded_attempt = encode_base64(sample[\"hex\"])\n",
    "\n",
    "if encoded_attempt:\n",
    "    print(f\"Encoded Unknown: {encoded_attempt}\")\n",
    "else:\n",
    "    print(\"Failed to encode Base64.\")"
   ]
  },
  {
   "cell_type": "markdown",
   "id": "898159a1-9215-4579-8f85-921270bc62f7",
   "metadata": {},
   "source": [
    "#### Direct Hex to ASCII Decoding"
   ]
  },
  {
   "cell_type": "code",
   "execution_count": 8,
   "id": "d3db61d0-91d4-4492-af1f-09c3f0a9c77e",
   "metadata": {},
   "outputs": [
    {
     "name": "stdout",
     "output_type": "stream",
     "text": [
      "Hex to ASCII Decoding Result: {\"url\":\"https://assets-global.website-files.com/638aec50b9a23cec17b8c4d1/63f9fa6cb9bb103589f0850a_zq7h3s51jafcnldtdfwc.jpg\",\"hash\":\"0777fff783810100803c3c00fefef0fd\",\"searchHash\":\"241230jhqywgsoee4hjgedb0dac08\",\"left_eye\":[255,142],\"right_eye\":[317,147],\"nose\":[280,182],\"left_mouth\":[248,202],\"right_mouth\":[319,209],\"expireTime\":1735637240851,\"abTest\":null,\"porn\":false}\n"
     ]
    }
   ],
   "source": [
    "# Function to decode hex to ASCII\n",
    "def hex_to_ascii(hex_str):\n",
    "    try:\n",
    "        return bytes.fromhex(hex_str).decode('utf-8')\n",
    "    except UnicodeDecodeError:\n",
    "        return \"Decoding failed (possibly binary data)\"\n",
    "\n",
    "# Apply on the dataset\n",
    "decoded_ascii = hex_to_ascii(sample[\"hex\"])\n",
    "print(\"Hex to ASCII Decoding Result:\", decoded_ascii)"
   ]
  },
  {
   "cell_type": "markdown",
   "id": "62662521-353d-49d6-b62e-3a017130a57d",
   "metadata": {},
   "source": [
    "#### i.e. Hex > ASCII = Actual Result [ASCII] from 1st Cell: MATCHED ✨"
   ]
  },
  {
   "cell_type": "code",
   "execution_count": 9,
   "id": "c37ddbe8-8af0-4c9c-970b-3a26d7c77947",
   "metadata": {},
   "outputs": [
    {
     "name": "stdout",
     "output_type": "stream",
     "text": [
      "URL Decoded Unknown: d8ab19d5c7a0f27c10fa57540506ac683bdf3c86c31f402beaf7e441d7eb789364cce03fac2f7ba75b0c4696dc30e8f20bca09ed71c3e5fc70980ac1581c059c9c17cc118f6187c4a20c1f8b0e83b410e3f6fa6d50d48e006be371843453f675e7233888b4150c5f1c26bf049aad1b6c0fa97a225baf1fec3cf31356897ef37be650aacdd25ff78dfc304e73d779768e6b19efe5af9477e074e3de07fcaec66014dea40fe186af33fa519d816ead854c6da927eb7dd8c349d14bbf68f4a97623ed755cfdc3cf09ab925af7f248f7d946a80ef46ae91094bf675dde11e5a8ba75d3cf98a63e9acea0e1dadf78c6e839b0ca4c44bfd13c80155d82d14613c68b9843074f02d74710a485a0ae2914746de6583b9cae685aa66239d3f2cefb657033269d55aa3c4dc6a6c715cc7e4aa5ed6431d486bd6a3b12fe9dcac4635f98232f5c31e16e41daceccb6e584a62b9dee756e29c2adf82def9650fad0b0aaf9bebf278dd97861d278e621043cb4d6858912f2ebb697ead4f9956100a5887f1feb84\n"
     ]
    }
   ],
   "source": [
    "decoded_url = urllib.parse.unquote(sample[\"unknown\"])\n",
    "print(\"URL Decoded Unknown:\", decoded_url)"
   ]
  },
  {
   "cell_type": "markdown",
   "id": "de2d4603-eb6e-4e06-a47a-a4013af2f99b",
   "metadata": {},
   "source": [
    "#### i.e. URL-SafeEncode = Actual Result [Unknown] from 1st Cell: MATCHED ✨"
   ]
  },
  {
   "cell_type": "code",
   "execution_count": 10,
   "id": "9e6c511f-fa7d-427b-b0c0-4b6d729acdc4",
   "metadata": {},
   "outputs": [
    {
     "name": "stdout",
     "output_type": "stream",
     "text": [
      "Hex Length: 744\n",
      "Unknown Length: 768\n"
     ]
    }
   ],
   "source": [
    "hex_length = len(sample[\"hex\"])\n",
    "unknown_length = len(sample[\"unknown\"])\n",
    "\n",
    "print(f\"Hex Length: {hex_length}\")\n",
    "print(f\"Unknown Length: {unknown_length}\")"
   ]
  },
  {
   "cell_type": "markdown",
   "id": "bfe2c385-5176-44e3-8b1d-860d7a4077cf",
   "metadata": {},
   "source": [
    "#### i.e. Bitwise Transformation (maybe ( + extra bytes )) > Actual Result [ Hex + (x)% = Unknown ] from 1st Cell: MATCHED ✨"
   ]
  },
  {
   "cell_type": "markdown",
   "id": "7278fd17-a029-48d3-86ba-eaf0ed33d690",
   "metadata": {},
   "source": [
    "<h4 align = center>Thank You! "
   ]
  },
  {
   "cell_type": "markdown",
   "id": "d302d6ff-7148-49a9-a094-6c23840586a1",
   "metadata": {},
   "source": [
    "<h4 align=\"center\"> Lokesh | <a href=\"https://lightxlk.github.io\"> Light</a> </h4>"
   ]
  },
  {
   "cell_type": "markdown",
   "id": "3e05149d-5266-4cc6-af89-2a272049a2a8",
   "metadata": {},
   "source": [
    "<h4 align=\"center\" style=\"font-style: italic;\"> to b' Junior Cryptographic Analyst :!</h4>"
   ]
  },
  {
   "cell_type": "code",
   "execution_count": null,
   "id": "9e96d60c-e4fe-4993-a774-5460c5620900",
   "metadata": {},
   "outputs": [],
   "source": []
  }
 ],
 "metadata": {
  "kernelspec": {
   "display_name": "Python 3 (ipykernel)",
   "language": "python",
   "name": "python3"
  },
  "language_info": {
   "codemirror_mode": {
    "name": "ipython",
    "version": 3
   },
   "file_extension": ".py",
   "mimetype": "text/x-python",
   "name": "python",
   "nbconvert_exporter": "python",
   "pygments_lexer": "ipython3",
   "version": "3.12.6"
  }
 },
 "nbformat": 4,
 "nbformat_minor": 5
}
